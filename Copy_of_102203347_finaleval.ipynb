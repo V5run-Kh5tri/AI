{
  "nbformat": 4,
  "nbformat_minor": 0,
  "metadata": {
    "colab": {
      "provenance": [],
      "authorship_tag": "ABX9TyMud2FxpOE1tKgVttb8FRkV",
      "include_colab_link": true
    },
    "kernelspec": {
      "name": "python3",
      "display_name": "Python 3"
    },
    "language_info": {
      "name": "python"
    }
  },
  "cells": [
    {
      "cell_type": "markdown",
      "metadata": {
        "id": "view-in-github",
        "colab_type": "text"
      },
      "source": [
        "<a href=\"https://colab.research.google.com/github/V5run-Kh5tri/AI/blob/main/Copy_of_102203347_finaleval.ipynb\" target=\"_parent\"><img src=\"https://colab.research.google.com/assets/colab-badge.svg\" alt=\"Open In Colab\"/></a>"
      ]
    },
    {
      "cell_type": "code",
      "execution_count": null,
      "metadata": {
        "colab": {
          "base_uri": "https://localhost:8080/"
        },
        "id": "zMVUJXTnjq6S",
        "outputId": "16b7794f-000a-4243-bcc4-4cd82d90dfee"
      },
      "outputs": [
        {
          "output_type": "stream",
          "name": "stdout",
          "text": [
            "3\n",
            "[[[], ['A', 'C', 'B'], []], [[], ['C', 'B'], ['A']], [['C', 'A'], ['B'], []], [['A'], ['B'], ['C']]]\n",
            "while loop\n",
            "[[['A'], ['C', 'B'], []]]\n",
            "[['A'], ['C', 'B'], []]\n",
            "else\n",
            "generated moves are: [[[], ['A', 'C', 'B'], []], [[], ['C', 'B'], ['A']], [['C', 'A'], ['B'], []], [['A'], ['B'], ['C']]]\n",
            "opened list is: [[['A'], ['C', 'B'], []]]\n",
            "[[[], ['A', 'C', 'B'], []]]\n",
            "[[[], ['A', 'C', 'B'], []], [[], ['C', 'B'], ['A']]]\n",
            "[[[], ['A', 'C', 'B'], []], [[], ['C', 'B'], ['A']], [['C', 'A'], ['B'], []]]\n",
            "[[[], ['A', 'C', 'B'], []], [[], ['C', 'B'], ['A']], [['C', 'A'], ['B'], []], [['A'], ['B'], ['C']]]\n",
            "while loop\n",
            "[[[], ['A', 'C', 'B'], []], [[], ['C', 'B'], ['A']], [['C', 'A'], ['B'], []], [['A'], ['B'], ['C']]]\n",
            "[['A'], ['B'], ['C']]\n",
            "else\n",
            "generated moves are: [[[], ['A', 'B'], ['C']], [[], ['B'], ['A', 'C']], [['B', 'A'], [], ['C']], [['A'], [], ['B', 'C']], [['C', 'A'], ['B'], []], [['A'], ['C', 'B'], []]]\n",
            "opened list is: [[['A'], ['C', 'B'], []], [['A'], ['B'], ['C']]]\n",
            "[[[], ['A', 'C', 'B'], []], [[], ['C', 'B'], ['A']], [['C', 'A'], ['B'], []], [[], ['A', 'B'], ['C']]]\n",
            "[[[], ['A', 'C', 'B'], []], [[], ['C', 'B'], ['A']], [['C', 'A'], ['B'], []], [[], ['A', 'B'], ['C']], [[], ['B'], ['A', 'C']]]\n",
            "[[[], ['A', 'C', 'B'], []], [[], ['C', 'B'], ['A']], [['C', 'A'], ['B'], []], [[], ['A', 'B'], ['C']], [[], ['B'], ['A', 'C']], [['B', 'A'], [], ['C']]]\n",
            "[[[], ['A', 'C', 'B'], []], [[], ['C', 'B'], ['A']], [['C', 'A'], ['B'], []], [[], ['A', 'B'], ['C']], [[], ['B'], ['A', 'C']], [['B', 'A'], [], ['C']], [['A'], [], ['B', 'C']]]\n",
            "while loop\n",
            "[[[], ['A', 'C', 'B'], []], [[], ['C', 'B'], ['A']], [['C', 'A'], ['B'], []], [[], ['A', 'B'], ['C']], [[], ['B'], ['A', 'C']], [['B', 'A'], [], ['C']], [['A'], [], ['B', 'C']]]\n",
            "[['A'], [], ['B', 'C']]\n",
            "else\n",
            "generated moves are: [[[], ['A'], ['B', 'C']], [[], [], ['A', 'B', 'C']], [['B', 'A'], [], ['C']], [['A'], ['B'], ['C']]]\n",
            "opened list is: [[['A'], ['C', 'B'], []], [['A'], ['B'], ['C']], [['A'], [], ['B', 'C']]]\n",
            "[[[], ['A', 'C', 'B'], []], [[], ['C', 'B'], ['A']], [['C', 'A'], ['B'], []], [[], ['A', 'B'], ['C']], [[], ['B'], ['A', 'C']], [['B', 'A'], [], ['C']], [[], ['A'], ['B', 'C']]]\n",
            "[[[], ['A', 'C', 'B'], []], [[], ['C', 'B'], ['A']], [['C', 'A'], ['B'], []], [[], ['A', 'B'], ['C']], [[], ['B'], ['A', 'C']], [['B', 'A'], [], ['C']], [[], ['A'], ['B', 'C']], [[], [], ['A', 'B', 'C']]]\n",
            "while loop\n",
            "[[[], ['A', 'C', 'B'], []], [[], ['C', 'B'], ['A']], [['C', 'A'], ['B'], []], [[], ['A', 'B'], ['C']], [[], ['B'], ['A', 'C']], [['B', 'A'], [], ['C']], [[], ['A'], ['B', 'C']], [[], [], ['A', 'B', 'C']]]\n",
            "[[], [], ['A', 'B', 'C']]\n",
            "else\n",
            "generated moves are: [[['A'], [], ['B', 'C']], [[], ['A'], ['B', 'C']]]\n",
            "opened list is: [[['A'], ['C', 'B'], []], [['A'], ['B'], ['C']], [['A'], [], ['B', 'C']], [[], [], ['A', 'B', 'C']]]\n",
            "while loop\n",
            "[[[], ['A', 'C', 'B'], []], [[], ['C', 'B'], ['A']], [['C', 'A'], ['B'], []], [[], ['A', 'B'], ['C']], [[], ['B'], ['A', 'C']], [['B', 'A'], [], ['C']], [[], ['A'], ['B', 'C']]]\n",
            "[[], ['A'], ['B', 'C']]\n",
            "else\n",
            "generated moves are: [[['A'], [], ['B', 'C']], [[], [], ['A', 'B', 'C']], [['B'], ['A'], ['C']], [[], ['B', 'A'], ['C']]]\n",
            "opened list is: [[['A'], ['C', 'B'], []], [['A'], ['B'], ['C']], [['A'], [], ['B', 'C']], [[], [], ['A', 'B', 'C']], [[], ['A'], ['B', 'C']]]\n",
            "[[[], ['A', 'C', 'B'], []], [[], ['C', 'B'], ['A']], [['C', 'A'], ['B'], []], [[], ['A', 'B'], ['C']], [[], ['B'], ['A', 'C']], [['B', 'A'], [], ['C']], [['B'], ['A'], ['C']]]\n",
            "[[[], ['A', 'C', 'B'], []], [[], ['C', 'B'], ['A']], [['C', 'A'], ['B'], []], [[], ['A', 'B'], ['C']], [[], ['B'], ['A', 'C']], [['B', 'A'], [], ['C']], [['B'], ['A'], ['C']], [[], ['B', 'A'], ['C']]]\n",
            "while loop\n",
            "[[[], ['A', 'C', 'B'], []], [[], ['C', 'B'], ['A']], [['C', 'A'], ['B'], []], [[], ['A', 'B'], ['C']], [[], ['B'], ['A', 'C']], [['B', 'A'], [], ['C']], [['B'], ['A'], ['C']], [[], ['B', 'A'], ['C']]]\n",
            "[[], ['B', 'A'], ['C']]\n",
            "else\n",
            "generated moves are: [[['B'], ['A'], ['C']], [[], ['A'], ['B', 'C']], [['C'], ['B', 'A'], []], [[], ['C', 'B', 'A'], []]]\n",
            "opened list is: [[['A'], ['C', 'B'], []], [['A'], ['B'], ['C']], [['A'], [], ['B', 'C']], [[], [], ['A', 'B', 'C']], [[], ['A'], ['B', 'C']], [[], ['B', 'A'], ['C']]]\n",
            "[[[], ['A', 'C', 'B'], []], [[], ['C', 'B'], ['A']], [['C', 'A'], ['B'], []], [[], ['A', 'B'], ['C']], [[], ['B'], ['A', 'C']], [['B', 'A'], [], ['C']], [['B'], ['A'], ['C']], [['C'], ['B', 'A'], []]]\n",
            "[[[], ['A', 'C', 'B'], []], [[], ['C', 'B'], ['A']], [['C', 'A'], ['B'], []], [[], ['A', 'B'], ['C']], [[], ['B'], ['A', 'C']], [['B', 'A'], [], ['C']], [['B'], ['A'], ['C']], [['C'], ['B', 'A'], []], [[], ['C', 'B', 'A'], []]]\n",
            "while loop\n",
            "[[[], ['A', 'C', 'B'], []], [[], ['C', 'B'], ['A']], [['C', 'A'], ['B'], []], [[], ['A', 'B'], ['C']], [[], ['B'], ['A', 'C']], [['B', 'A'], [], ['C']], [['B'], ['A'], ['C']], [['C'], ['B', 'A'], []], [[], ['C', 'B', 'A'], []]]\n",
            "[[], ['C', 'B', 'A'], []]\n",
            "found\n"
          ]
        }
      ],
      "source": [
        "import copy\n",
        "ini=[['A'],['C','B'],[]]\n",
        "goal=[[],['C','B','A'],[]]\n",
        "open=[ini]\n",
        "visited=[]\n",
        "success=False\n",
        "states=[]\n",
        "print(len(ini))\n",
        "def generateMoves(stat):\n",
        "  states=[]\n",
        "  for i in range(len(stat)):\n",
        "    if len(stat[i])!=0:\n",
        "      for j in range(len(stat)):\n",
        "        if j!=i:\n",
        "          curr1=copy.deepcopy(stat)\n",
        "          ok=curr1[i].pop(0)\n",
        "          curr1[j].insert(0,ok)\n",
        "          states.append(curr1)\n",
        "  return states\n",
        "\n",
        "print(generateMoves(ini))\n",
        "\n",
        "\n",
        "while success==False and len(open)!=0:\n",
        "  print('while loop')\n",
        "  print(open)\n",
        "  curr=open.pop()\n",
        "  print(curr)\n",
        "  if curr==goal:\n",
        "    success=True\n",
        "    visited.append(curr)\n",
        "  else:\n",
        "    print('else')\n",
        "    states=generateMoves(curr)\n",
        "    print('generated moves are:',states)\n",
        "    visited.append(curr)\n",
        "    print('opened list is:',visited)\n",
        "    for state in states:\n",
        "      if state not in open and state not in visited:\n",
        "        open.append(state)\n",
        "        print(open)\n",
        "\n",
        "if success:\n",
        "  print('found')\n",
        "else:\n",
        "  print('not found')\n",
        "\n"
      ]
    },
    {
      "cell_type": "code",
      "source": [
        "import copy\n",
        "ini=[[['A'],['C','B'],[]],0]\n",
        "goal=[[],['C','B','A'],[]]\n",
        "open=[ini]\n",
        "visited=[]\n",
        "success=False\n",
        "states=[]\n",
        "print(len(ini[0]))\n",
        "def generateMoves(stat):\n",
        "  states=[]\n",
        "  for i in range(len(stat[0])):\n",
        "    if len(stat[0][i])!=0:\n",
        "      for j in range(len(stat[0])):\n",
        "        if j!=i:\n",
        "          curr1=copy.deepcopy(stat)\n",
        "          ok=curr1[0][i].pop(0)\n",
        "          curr1[0][j].insert(0,ok)\n",
        "          curr1[1]=stat[1]+1\n",
        "          states.append(curr1)\n",
        "  return states\n",
        "\n",
        "print(generateMoves(ini))\n",
        "\n",
        "\n",
        "while success==False and len(open)!=0:\n",
        "  print('while loop')\n",
        "  print(open)\n",
        "  curr=open.pop()\n",
        "  print(curr)\n",
        "  if curr[0]==goal:\n",
        "    success=True\n",
        "    visited.append(curr)\n",
        "  else:\n",
        "    print('else')\n",
        "    states=generateMoves(curr)\n",
        "    print('generated moves are:',states)\n",
        "    visited.append(curr)\n",
        "    print('opened list is:',visited)\n",
        "    for state in states:\n",
        "      if state[] not in open and state not in visited:\n",
        "        open.append(state)\n",
        "        print(open)\n",
        "\n",
        "if success:\n",
        "  print('found')\n",
        "else:\n",
        "  print('not found')\n",
        "\n"
      ],
      "metadata": {
        "colab": {
          "base_uri": "https://localhost:8080/"
        },
        "id": "s_Rtfncvnxdk",
        "outputId": "301c3312-bf01-4a91-860c-5778b61230ee"
      },
      "execution_count": null,
      "outputs": [
        {
          "output_type": "stream",
          "name": "stdout",
          "text": [
            "3\n",
            "[[[[], ['A', 'C', 'B'], []], 1], [[[], ['C', 'B'], ['A']], 1], [[['C', 'A'], ['B'], []], 1], [[['A'], ['B'], ['C']], 1]]\n"
          ]
        }
      ]
    }
  ]
}